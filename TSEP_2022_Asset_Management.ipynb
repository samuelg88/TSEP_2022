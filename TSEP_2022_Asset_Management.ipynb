{
  "metadata": {
    "kernelspec": {
      "name": "python",
      "display_name": "Python (Pyodide)",
      "language": "python"
    },
    "language_info": {
      "codemirror_mode": {
        "name": "python",
        "version": 3
      },
      "file_extension": ".py",
      "mimetype": "text/x-python",
      "name": "python",
      "nbconvert_exporter": "python",
      "pygments_lexer": "ipython3",
      "version": "3.8"
    }
  },
  "nbformat_minor": 4,
  "nbformat": 4,
  "cells": [
    {
      "cell_type": "code",
      "source": "%pip install -q ipywidgets\n%pip install -q certifi\n%pip install -q pandas_datareader\n%pip install -q plotly\n%pip install -q IPython\n%pip install -q seaborn",
      "metadata": {
        "trusted": true
      },
      "execution_count": 14,
      "outputs": []
    },
    {
      "cell_type": "code",
      "source": "import datetime\n#import qgrid\nfrom ipywidgets import interact, widgets, Layout, interactive\nimport matplotlib.pyplot as plt\nimport numpy as np\nimport pandas as pd\nimport pandas_datareader.data as web\nimport plotly.graph_objects as go\nimport inspect",
      "metadata": {
        "trusted": true
      },
      "execution_count": 52,
      "outputs": []
    },
    {
      "cell_type": "code",
      "source": "from IPython.core import debugger\nfrom IPython.display import display, HTML\nimport ipywidgets as widgets\nimport ipywidgets as widgets\nfrom ipywidgets import interact, widgets, Layout, interactive",
      "metadata": {
        "trusted": true
      },
      "execution_count": 53,
      "outputs": []
    },
    {
      "cell_type": "code",
      "source": "from tsep_2022 import display_data",
      "metadata": {
        "trusted": true
      },
      "execution_count": 56,
      "outputs": []
    },
    {
      "cell_type": "markdown",
      "source": "## Portfolio simulator",
      "metadata": {}
    },
    {
      "cell_type": "code",
      "source": "display_data()",
      "metadata": {
        "tags": [],
        "trusted": true
      },
      "execution_count": 60,
      "outputs": [
        {
          "output_type": "display_data",
          "data": {
            "text/plain": "HBox(children=(DatePicker(value=datetime.date(2021, 11, 11), description='Start date:', step=1), DatePicker(va…",
            "application/vnd.jupyter.widget-view+json": {
              "version_major": 2,
              "version_minor": 0,
              "model_id": "15cdb14a7b2c474eb92855dd6d7820a1"
            }
          },
          "metadata": {}
        },
        {
          "output_type": "display_data",
          "data": {
            "text/plain": "<IPython.core.display.HTML object>",
            "text/html": "<br>"
          },
          "metadata": {}
        },
        {
          "output_type": "display_data",
          "data": {
            "text/plain": "'Pick 4 stocks'"
          },
          "metadata": {}
        },
        {
          "output_type": "display_data",
          "data": {
            "text/plain": "'Using ctrl + click'"
          },
          "metadata": {}
        },
        {
          "output_type": "display_data",
          "data": {
            "text/plain": "'Sum of weights should amount to 1 or less'"
          },
          "metadata": {}
        },
        {
          "output_type": "display_data",
          "data": {
            "text/plain": "HBox(children=(SelectMultiple(description='Choose your prefered stocks', index=(0, 1, 2, 3), layout=Layout(jus…",
            "application/vnd.jupyter.widget-view+json": {
              "version_major": 2,
              "version_minor": 0,
              "model_id": "04aa65a0646847279c4be47a91c809e1"
            }
          },
          "metadata": {}
        }
      ]
    },
    {
      "cell_type": "code",
      "source": "",
      "metadata": {},
      "execution_count": null,
      "outputs": []
    }
  ]
}
